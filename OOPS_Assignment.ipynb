{
  "nbformat": 4,
  "nbformat_minor": 0,
  "metadata": {
    "colab": {
      "provenance": []
    },
    "kernelspec": {
      "name": "python3",
      "display_name": "Python 3"
    },
    "language_info": {
      "name": "python"
    }
  },
  "cells": [
    {
      "cell_type": "markdown",
      "source": [
        "##Oops Assignment"
      ],
      "metadata": {
        "id": "oFSg6EtFGhLS"
      }
    },
    {
      "cell_type": "markdown",
      "source": [
        "###Q.1.What is Object-Oriented Programming (OOP)?\n",
        "\n",
        "--> Object-Oriented Programming (OOP) is a programming paradigm that organizes software design around objects, which are instances of classes, that contain data (attributes) and actions (methods). It uses concepts like inheritance, encapsulation, polymorphism, and abstraction to create reusable and maintainable code.\n",
        "\n",
        "###Q.2.What is a class in OOP?\n",
        "\n",
        "--> A class in Object-Oriented Programming (OOP) is like a blueprint or template used to create objects.\n",
        "\n",
        "It defines two main things:\n",
        "\n",
        "1.Attributes (or fields) – These are the data or properties of the object.\n",
        "\n",
        "2.Methods (or functions) – These define the behavior or actions the object can perform."
      ],
      "metadata": {
        "id": "f4-bazEJGmSS"
      }
    },
    {
      "cell_type": "markdown",
      "source": [
        "###Q.3.What is an object in OOP?\n",
        "\n",
        "-->  In object-oriented programming (OOP), an object is a fundamental unit that encapsulates data (attributes or properties) and the actions (methods or behaviors) that can be performed on that data, representing a real-world entity or concept."
      ],
      "metadata": {
        "id": "T3TAlKRPI_E4"
      }
    },
    {
      "cell_type": "markdown",
      "source": [
        "###Q.4.What is the difference between abstraction and encapsulation?\n",
        "\n",
        "--> The primary difference between abstraction and encapsulation is that abstraction is a design level process that focuses on hiding the complex details and implementation of the code. In contrast, encapsulation is an implementation level process that focuses on hiding the data and controlling the visibility of the code."
      ],
      "metadata": {
        "id": "UcPwOUoUJLGX"
      }
    },
    {
      "cell_type": "markdown",
      "source": [
        "###Q.5.What are dunder methods in Python?\n",
        "\n",
        "-->In Python, \"dunder\" methods (short for \"double underscore\" methods) are special methods, also known as magic methods, that have double underscores at the beginning and end of their names (e.g., __init__, __str__) and are used to define specific behaviors for built-in operations and functionalities within classes."
      ],
      "metadata": {
        "id": "fMg7F6PaJjc6"
      }
    },
    {
      "cell_type": "markdown",
      "source": [
        "###Q.6.Explain the concept of inheritance in OOP.\n",
        "\n",
        "--> In Object-Oriented Programming (OOP), inheritance is a mechanism where a new class (derived or child class) inherits properties and methods from an existing class (base or parent class), promoting code reuse and hierarchical relationships."
      ],
      "metadata": {
        "id": "ZWh53y5BI54I"
      }
    },
    {
      "cell_type": "markdown",
      "source": [
        "###Q.7.What is polymorphism in OOP?\n",
        "\n",
        "-->In Object-Oriented Programming (OOP), polymorphism, meaning \"many forms,\" refers to the ability of a class, object, method, or variable to take on multiple forms or behaviors. It allows the same method name to be used for different types of objects, enabling a single interface to represent diverse functionalities. This is achieved through mechanisms like method overloading, overriding, and inheritance."
      ],
      "metadata": {
        "id": "8AHTaFhyKEIY"
      }
    },
    {
      "cell_type": "markdown",
      "source": [
        "###Q.8.How is encapsulation achieved in Python?\n",
        "\n",
        "-->   In Python, encapsulation, a core object-oriented programming concept, is achieved by bundling data (attributes) and methods that operate on that data within a class, and then controlling access to these attributes and methods using access modifiers (public, protected, and private)."
      ],
      "metadata": {
        "id": "yX240gfpKVTv"
      }
    },
    {
      "cell_type": "markdown",
      "source": [
        "###Q.9.What is a constructor in Python?\n",
        "\n",
        "-->  In Python, a constructor is a special method, __init__, used to initialize the attributes of a class when a new object (instance) is created. It's automatically called when you instantiate a class, allowing you to set initial values for the object's properties.\n"
      ],
      "metadata": {
        "id": "m-z950_5KhbH"
      }
    },
    {
      "cell_type": "markdown",
      "source": [
        "###Q.10.What are class and static methods in Python?\n",
        "\n",
        "-->  1. Static Methods:\n",
        "#####Definition:\n",
        "Static methods are defined using the @staticmethod decorator.\n",
        "\n",
        "#####Purpose:\n",
        "They are utility functions that are logically grouped within a class for organization, but don't operate on the class or instance state.\n",
        "\n",
        "#####Access:\n",
        "Static methods can be called directly on the class (e.g., MyClass.my_static_method()) or on an instance of the class (e.g., instance.my_static_method()).\n",
        "\n",
        "\n",
        "2.Class Methods:\n",
        "\n",
        "#####Definition:\n",
        "Class methods are defined using the @classmethod decorator.\n",
        "#####Purpose:\n",
        "They are used when you need to access or modify class-level attributes or implement alternative constructors.\n",
        "#####Access:\n",
        "Class methods are called on the class (e.g., MyClass.my_class_method()) and receive the class itself as the first argument (conventionally named cls)."
      ],
      "metadata": {
        "id": "EFvb3MWvKrsw"
      }
    },
    {
      "cell_type": "markdown",
      "source": [
        "###Q.11.What is method overloading in Python?\n",
        "\n",
        "-->Method overloading, allows defining multiple methods within a class that share the same name but have different parameter lists or signatures. Python, however, doesn't directly support conventional method overloading like some other languages (e.g., Java). Instead, it achieves the same effect through flexible argument handling techniques like default arguments."
      ],
      "metadata": {
        "id": "m39ehyJmLxyb"
      }
    },
    {
      "cell_type": "markdown",
      "source": [
        "###Q.12.What is method overriding in OOP?\n",
        "\n",
        "-->  In Object-Oriented Programming (OOP), method overriding allows a subclass to provide a specific implementation for a method that is already defined in its superclass, enabling specialized behavior while maintaining the same method signature."
      ],
      "metadata": {
        "id": "67C-mOTjMTzV"
      }
    },
    {
      "cell_type": "markdown",
      "source": [
        "###Q.13.What is a property decorator in Python?\n",
        "\n",
        "-->The Python property decorator makes attributes in a class act like read-only properties. Essentially, it lets you access methods as if they were attributes, without needing to write parentheses."
      ],
      "metadata": {
        "id": "e8xyiMmzMeSa"
      }
    },
    {
      "cell_type": "markdown",
      "source": [
        "###Q.14.Why is polymorphism important in OOP?\n",
        "\n",
        "-->  Polymorphism is crucial in Object-Oriented Programming (OOP) because it enables code reusability, flexibility, and maintainability by allowing objects of different classes to be treated as objects of a common type, promoting adaptable and modular software systems."
      ],
      "metadata": {
        "id": "Tcv2Me4SMwKm"
      }
    },
    {
      "cell_type": "markdown",
      "source": [
        "###Q.15.What is an abstract class in Python?\n",
        "\n",
        "-->  In Python, an abstract class is a blueprint for other classes, designed to be subclassed but not instantiated directly, containing one or more abstract methods (methods without implementation) that must be implemented by its subclasses."
      ],
      "metadata": {
        "id": "cPKPeyuzM8WD"
      }
    },
    {
      "cell_type": "markdown",
      "source": [],
      "metadata": {
        "id": "nqvE1WCLMt1y"
      }
    },
    {
      "cell_type": "markdown",
      "source": [
        "###Q.16.What are the advantages of OOP?\n",
        "\n",
        "-->\n",
        "\n",
        "1.Modularity:\n",
        "\n",
        "i. Code is organized into classes and objects, which makes it easier to manage.\n",
        "\n",
        "ii. Each class has a specific responsibility, leading to cleaner, more modular code.\n",
        "\n",
        "2.Reusability (via Inheritance):\n",
        "\n",
        "i. You can create new classes by reusing existing ones using inheritance.\n",
        "\n",
        "ii. Reduces code duplication and promotes the DRY principle.\n",
        "\n",
        "3.Encapsulation:\n",
        "\n",
        "i. Protects internal object state by hiding data and exposing only necessary interfaces.\n",
        "\n",
        "ii. Makes the code more secure and less prone to bugs due to uncontrolled access.\n",
        "\n",
        "4.Abstraction:\n",
        "\n",
        "i. Focus on what an object does instead of how it does it.\n",
        "\n",
        "ii. Makes working with complex systems easier by exposing only relevant details."
      ],
      "metadata": {
        "id": "eify-PxTNFon"
      }
    },
    {
      "cell_type": "markdown",
      "source": [
        "###Q.17.What is the difference between a class variable and an instance variable?\n",
        "\n",
        "-->  Class variables (static variables):- are shared among all instances of a class, meaning they have one copy for the entire class.\n",
        "\n",
        "Instance variables:-  are unique to each instance (object) of the class, with each object having its own separate copy of the variable."
      ],
      "metadata": {
        "id": "25viU144OBiO"
      }
    },
    {
      "cell_type": "markdown",
      "source": [
        "###Q.18.What is multiple inheritance in Python?\n",
        "\n",
        "-->  In Python, multiple inheritance allows a class (the child class) to inherit attributes and methods from multiple parent classes. This means a child class can inherit properties from more than one base class, combining their functionalities."
      ],
      "metadata": {
        "id": "8LAzsxPOOeTi"
      }
    },
    {
      "cell_type": "markdown",
      "source": [
        "###Q.19.Explain the purpose of ‘’__str__’ and ‘__repr__’ ‘ methods in Python?\n",
        "\n",
        "-->  In Python, __str__ and __repr__ are special methods that control how objects are represented as strings.\n",
        "####__str__:\n",
        "provides a human-readable informal representation, suitable for display to the user.\n",
        "####__repr__:\n",
        "offers a formal, more informative representation, often for debugging or developer use."
      ],
      "metadata": {
        "id": "l5yCkhTuOo1a"
      }
    },
    {
      "cell_type": "markdown",
      "source": [
        "###Q.20. What is the significance of the ‘super()’ function in Python?\n",
        "\n",
        "--> In Python, the super() function is a built-in function that allows a subclass to access and call methods of its parent (or super) class, facilitating inheritance and code reusability.\n",
        "\n",
        "####Purpose:\n",
        " super() enables a subclass to invoke methods of its parent class without explicitly naming the parent class, promoting code flexibility and maintainability."
      ],
      "metadata": {
        "id": "kzqaqQRlO9-t"
      }
    },
    {
      "cell_type": "markdown",
      "source": [
        "###Q.21.What is the significance of the __del__ method in Python?\n",
        "\n",
        "-->In Python, the __del__() method is a destructor that's automatically called by the garbage collector when an object's reference count reaches zero, signaling that the object is about to be destroyed. It's primarily used for cleaning up resources or performing final actions before an object is deallocated, though its reliability can be affected by the garbage collector's timing."
      ],
      "metadata": {
        "id": "bRYqJXEjPQyz"
      }
    },
    {
      "cell_type": "markdown",
      "source": [
        "###Q.22.What is the difference between @staticmethod and @classmethod in Python?\n",
        "\n",
        "-->1.@staticmethod:\n",
        "\n",
        "i. A staticmethod is just like a regular function, but it lives inside a class.\n",
        "\n",
        "ii. It does NOT take self or cls as the first argument.\n",
        "\n",
        "iii. It cannot access or modify class or instance attributes.\n",
        "\n",
        "iv. Use it when the method doesn’t need to know anything about the class or object.\n",
        "\n",
        "2.@classmethod:\n",
        "\n",
        "i. A classmethod takes cls as the first argument, which refers to the class itself, not an instance.\n",
        "\n",
        "ii. It can access or modify class-level data.\n",
        "\n",
        "iii. Often used for alternative constructors or class-level operations.\n",
        "\n",
        "iv. Use it when the method needs to work with the class, not just data."
      ],
      "metadata": {
        "id": "z_k_mIjhPYwZ"
      }
    },
    {
      "cell_type": "markdown",
      "source": [
        "###Q.23. How does polymorphism work in Python with inheritance?\n",
        "\n",
        "--> In Python, polymorphism with inheritance works through method overriding, where child classes can redefine methods inherited from parent classes, allowing the same method name to have different implementations based on the object type."
      ],
      "metadata": {
        "id": "lZkVMllUQK89"
      }
    },
    {
      "cell_type": "markdown",
      "source": [
        "###Q.24. What is method chaining in Python OOP?\n",
        "\n",
        "-->Method chaining in Python allows you to call multiple methods on the same object in a single line of code, improving readability and conciseness. It's achieved by having methods return the object itself, allowing subsequent method calls to be chained using the dot notation."
      ],
      "metadata": {
        "id": "wZ7kAchlQecA"
      }
    },
    {
      "cell_type": "markdown",
      "source": [
        "###Q.25.What is the purpose of the __call__ method in Python?\n",
        "\n",
        "-->The purpose of the __call__ method in Python is to make instances of a class callable, allowing them to be invoked like functions. When you define a __call__ method within a class, you enable instances of that class to be called using parentheses, as if they were functions."
      ],
      "metadata": {
        "id": "3LdFfnIwQpef"
      }
    },
    {
      "cell_type": "markdown",
      "source": [
        "##Practical Qiestions"
      ],
      "metadata": {
        "id": "JgG_fp9-Q_DY"
      }
    },
    {
      "cell_type": "markdown",
      "source": [
        "###Q.1.Create a parent class Animal with a method speak() that prints a generic message. Create a child class Dog that overrides the speak() method to print \"Bark!\"."
      ],
      "metadata": {
        "id": "cZbrZyGdRMYN"
      }
    },
    {
      "cell_type": "code",
      "execution_count": 1,
      "metadata": {
        "colab": {
          "base_uri": "https://localhost:8080/"
        },
        "id": "bR1VI9KqGZ8x",
        "outputId": "876af9de-c3ff-4060-b782-7ee1bf8ffd0d"
      },
      "outputs": [
        {
          "output_type": "stream",
          "name": "stdout",
          "text": [
            "This animal makes a sound.\n",
            "Bark!\n"
          ]
        }
      ],
      "source": [
        "class Animal:\n",
        "    def speak(self):\n",
        "        print(\"This animal makes a sound.\")\n",
        "\n",
        "class Dog(Animal):\n",
        "    def speak(self):\n",
        "        print(\"Bark!\")\n",
        "\n",
        "if __name__ == \"__main__\":\n",
        "    animal = Animal()\n",
        "    animal.speak()\n",
        "\n",
        "    dog = Dog()\n",
        "    dog.speak()"
      ]
    },
    {
      "cell_type": "markdown",
      "source": [
        "###Q.2.Write a program to create an abstract class Shape with a method area(). Derive classes Circle and Rectangle from it and implement the area() method in both."
      ],
      "metadata": {
        "id": "7Ylo7krkSlOD"
      }
    },
    {
      "cell_type": "code",
      "source": [
        "from abc import ABC, abstractmethod\n",
        "import math\n",
        "\n",
        "class Shape(ABC):\n",
        "    @abstractmethod\n",
        "    def area(self):\n",
        "        pass\n",
        "\n",
        "class Circle(Shape):\n",
        "    def __init__(self, radius):\n",
        "        self.radius = radius\n",
        "\n",
        "    def area(self):\n",
        "        return math.pi * (self.radius ** 2)\n",
        "\n",
        "class Rectangle(Shape):\n",
        "    def __init__(self, width, height):\n",
        "        self.width = width\n",
        "        self.height = height\n",
        "\n",
        "    def area(self):\n",
        "        return self.width * self.height\n",
        "\n",
        "# Example usage\n",
        "if __name__ == \"__main__\":\n",
        "    circle = Circle(5)\n",
        "    print(f\"Area of the circle: {circle.area():.2f}\")\n",
        "\n",
        "    rectangle = Rectangle(4, 6)\n",
        "    print(f\"Area of the rectangle: {rectangle.area()}\")"
      ],
      "metadata": {
        "colab": {
          "base_uri": "https://localhost:8080/"
        },
        "id": "bfM5UUsdR7bt",
        "outputId": "6baa1cbd-5284-4985-9b3e-42220a0a0393"
      },
      "execution_count": 2,
      "outputs": [
        {
          "output_type": "stream",
          "name": "stdout",
          "text": [
            "Area of the circle: 78.54\n",
            "Area of the rectangle: 24\n"
          ]
        }
      ]
    },
    {
      "cell_type": "markdown",
      "source": [
        "###Q.3.Implement a multi-level inheritance scenario where a class Vehicle has an attribute type. Derive a class Car and further derive a class ElectricCar that adds a battery attribute."
      ],
      "metadata": {
        "id": "BbHbUe50TRdq"
      }
    },
    {
      "cell_type": "code",
      "source": [
        "class Vehicle:\n",
        "    def __init__(self, vehicle_type):\n",
        "        self.type = vehicle_type\n",
        "\n",
        "    def display_info(self):\n",
        "        print(f\"Vehicle Type: {self.type}\")\n",
        "\n",
        "class Car(Vehicle):\n",
        "    def __init__(self, vehicle_type, brand):\n",
        "        super().__init__(vehicle_type)\n",
        "        self.brand = brand\n",
        "\n",
        "    def display_info(self):\n",
        "        super().display_info()\n",
        "        print(f\"Brand: {self.brand}\")\n",
        "\n",
        "class ElectricCar(Car):\n",
        "    def __init__(self, vehicle_type, brand, battery):\n",
        "        super().__init__(vehicle_type, brand)\n",
        "        self.battery = battery\n",
        "\n",
        "    def display_info(self):\n",
        "        super().display_info()\n",
        "        print(f\"Battery Capacity: {self.battery} kWh\")\n",
        "\n",
        "tesla = ElectricCar(\"Electric\", \"Tesla Model 3\", 75)\n",
        "\n",
        "tesla.display_info()\n"
      ],
      "metadata": {
        "colab": {
          "base_uri": "https://localhost:8080/"
        },
        "id": "9Xe0_z5CTQhu",
        "outputId": "ee17624b-21d0-4b16-8307-66250804b0af"
      },
      "execution_count": 3,
      "outputs": [
        {
          "output_type": "stream",
          "name": "stdout",
          "text": [
            "Vehicle Type: Electric\n",
            "Brand: Tesla Model 3\n",
            "Battery Capacity: 75 kWh\n"
          ]
        }
      ]
    },
    {
      "cell_type": "markdown",
      "source": [
        "###Q.4.Demonstrate polymorphism by creating a base class Bird with a method fly(). Create two derived classes Sparrow and Penguin that override the fly() method.\n"
      ],
      "metadata": {
        "id": "y9xVOKSbT3Zp"
      }
    },
    {
      "cell_type": "code",
      "source": [
        "class Bird:\n",
        "    def fly(self):\n",
        "        print(\"Some birds can fly.\")\n",
        "\n",
        "class Sparrow(Bird):\n",
        "    def fly(self):\n",
        "        print(\"Sparrow flies high in the sky.\")\n",
        "\n",
        "class Penguin(Bird):\n",
        "    def fly(self):\n",
        "        print(\"Penguins cannot fly, but they swim well.\")\n",
        "\n",
        "def bird_flight(bird):\n",
        "    bird.fly()\n",
        "\n",
        "sparrow = Sparrow()\n",
        "penguin = Penguin()\n",
        "\n",
        "\n",
        "bird_flight(sparrow)\n",
        "bird_flight(penguin)\n"
      ],
      "metadata": {
        "colab": {
          "base_uri": "https://localhost:8080/"
        },
        "id": "poCPid9-T2FZ",
        "outputId": "5e22dc7b-e389-4fe3-d56d-ae719a278007"
      },
      "execution_count": 4,
      "outputs": [
        {
          "output_type": "stream",
          "name": "stdout",
          "text": [
            "Sparrow flies high in the sky.\n",
            "Penguins cannot fly, but they swim well.\n"
          ]
        }
      ]
    },
    {
      "cell_type": "markdown",
      "source": [
        "###Q.5.Write a program to demonstrate encapsulation by creating a class BankAccount with private attributes balance and methods to deposit, withdraw, and check balance."
      ],
      "metadata": {
        "id": "O-tBxWIqUPc4"
      }
    },
    {
      "cell_type": "code",
      "source": [
        "class BankAccount:\n",
        "    def __init__(self, initial_balance=0):\n",
        "        self.__balance = initial_balance\n",
        "\n",
        "    def deposit(self, amount):\n",
        "        if amount > 0:\n",
        "            self.__balance += amount\n",
        "            print(f\"Deposited: ${amount}\")\n",
        "        else:\n",
        "            print(\"Invalid deposit amount.\")\n",
        "\n",
        "    def withdraw(self, amount):\n",
        "        if 0 < amount <= self.__balance:\n",
        "            self.__balance -= amount\n",
        "            print(f\"Withdrew: ${amount}\")\n",
        "        else:\n",
        "            print(\"Insufficient funds or invalid amount.\")\n",
        "\n",
        "    def get_balance(self):\n",
        "        return self.__balance\n",
        "\n",
        "# Testing\n",
        "\n",
        "account = BankAccount(100)\n",
        "account.deposit(50)\n",
        "account.withdraw(30)\n",
        "print(f\"Current Balance: ${account.get_balance()}\")"
      ],
      "metadata": {
        "colab": {
          "base_uri": "https://localhost:8080/"
        },
        "id": "LJhHaaRAUMWp",
        "outputId": "01c2285d-ffac-45fc-f0d4-1036b9fd8e69"
      },
      "execution_count": 5,
      "outputs": [
        {
          "output_type": "stream",
          "name": "stdout",
          "text": [
            "Deposited: $50\n",
            "Withdrew: $30\n",
            "Current Balance: $120\n"
          ]
        }
      ]
    },
    {
      "cell_type": "markdown",
      "source": [
        "###Q.6.Demonstrate runtime polymorphism using a method play() in a base class Instrument. Derive classes Guitar and Piano that implement their own version of play()."
      ],
      "metadata": {
        "id": "xKSGsFV2Uv6H"
      }
    },
    {
      "cell_type": "code",
      "source": [
        "class Instrument:\n",
        "    def play(self):\n",
        "        print(\"Playing an instrument...\")\n",
        "\n",
        "class Guitar(Instrument):\n",
        "    def play(self):\n",
        "        print(\"Strumming the guitar!\")\n",
        "\n",
        "class Piano(Instrument):\n",
        "    def play(self):\n",
        "        print(\"Playing the piano!\")\n",
        "\n",
        "def perform(instrument):\n",
        "    instrument.play()\n",
        "\n",
        "guitar = Guitar()\n",
        "piano = Piano()\n",
        "\n",
        "\n",
        "perform(guitar)\n",
        "perform(piano)\n"
      ],
      "metadata": {
        "colab": {
          "base_uri": "https://localhost:8080/"
        },
        "id": "X6i4kOtyUtqn",
        "outputId": "ea486e50-193b-4393-b6c5-dcfb47773563"
      },
      "execution_count": 6,
      "outputs": [
        {
          "output_type": "stream",
          "name": "stdout",
          "text": [
            "Strumming the guitar!\n",
            "Playing the piano!\n"
          ]
        }
      ]
    },
    {
      "cell_type": "markdown",
      "source": [
        "###Q.7.Create a class MathOperations with a class method add_numbers() to add two numbers and a static method subtract_numbers() to subtract two numbers."
      ],
      "metadata": {
        "id": "jJlHeGHJVI0B"
      }
    },
    {
      "cell_type": "code",
      "source": [
        "class MathOperations:\n",
        "    @classmethod\n",
        "    def add_numbers(cls, a, b):\n",
        "        return a + b\n",
        "\n",
        "    @staticmethod\n",
        "    def subtract_numbers(a, b):\n",
        "        return a - b\n",
        "\n",
        "# --- Using the methods ---\n",
        "# Class method\n",
        "sum_result = MathOperations.add_numbers(10, 5)\n",
        "print(f\"Sum: {sum_result}\")\n",
        "\n",
        "# Static method\n",
        "difference = MathOperations.subtract_numbers(10, 5)\n",
        "print(f\"Difference: {difference}\")\n"
      ],
      "metadata": {
        "colab": {
          "base_uri": "https://localhost:8080/"
        },
        "id": "WrO0EtZHVHsh",
        "outputId": "f2f63884-62be-4206-cdf2-9cc7b9febf46"
      },
      "execution_count": 7,
      "outputs": [
        {
          "output_type": "stream",
          "name": "stdout",
          "text": [
            "Sum: 15\n",
            "Difference: 5\n"
          ]
        }
      ]
    },
    {
      "cell_type": "markdown",
      "source": [
        "###Q.8.Implement a class Person with a class method to count the total number of persons created."
      ],
      "metadata": {
        "id": "pI9AAmDJVfiG"
      }
    },
    {
      "cell_type": "code",
      "source": [
        "class Person:\n",
        "    count = 0\n",
        "\n",
        "    def __init__(self, name):\n",
        "        self.name = name\n",
        "        Person.count += 1\n",
        "\n",
        "    @classmethod\n",
        "    def get_person_count(cls):\n",
        "        return cls.count\n",
        "\n",
        "\n",
        "p1 = Person(\"Alice\")\n",
        "p2 = Person(\"Bob\")\n",
        "p3 = Person(\"Charlie\")\n",
        "\n",
        "\n",
        "print(f\"Total Persons: {Person.get_person_count()}\")"
      ],
      "metadata": {
        "colab": {
          "base_uri": "https://localhost:8080/"
        },
        "id": "L1PyJ8wBVcob",
        "outputId": "76e4e5d3-a617-494c-b428-05b01579b3a7"
      },
      "execution_count": 8,
      "outputs": [
        {
          "output_type": "stream",
          "name": "stdout",
          "text": [
            "Total Persons: 3\n"
          ]
        }
      ]
    },
    {
      "cell_type": "markdown",
      "source": [
        "###Q.9.Write a class Fraction with attributes numerator and denominator. Override the str method to display the fraction as \"numerator/denominator\"."
      ],
      "metadata": {
        "id": "1E0-HO4-V1im"
      }
    },
    {
      "cell_type": "code",
      "source": [
        "class Fraction:\n",
        "    def __init__(self, numerator, denominator):\n",
        "        self.numerator = numerator\n",
        "        self.denominator = denominator\n",
        "\n",
        "    def __str__(self):\n",
        "        return f\"{self.numerator}/{self.denominator}\"\n",
        "\n",
        "#Example\n",
        "\n",
        "f1 = Fraction(3, 4)\n",
        "f2 = Fraction(5, 8)\n",
        "\n",
        "print(f1)\n",
        "print(f2)\n"
      ],
      "metadata": {
        "colab": {
          "base_uri": "https://localhost:8080/"
        },
        "id": "a15m3wg5V0g2",
        "outputId": "4b234ec4-0ffa-4241-9063-62832ad5e297"
      },
      "execution_count": 9,
      "outputs": [
        {
          "output_type": "stream",
          "name": "stdout",
          "text": [
            "3/4\n",
            "5/8\n"
          ]
        }
      ]
    },
    {
      "cell_type": "markdown",
      "source": [
        "###Q.10. Demonstrate operator overloading by creating a class Vector and overriding the add method to add two vectors."
      ],
      "metadata": {
        "id": "Ur-YZcIbWVGD"
      }
    },
    {
      "cell_type": "code",
      "source": [
        "class Vector:\n",
        "    def __init__(self, x, y):\n",
        "        self.x = x\n",
        "        self.y = y\n",
        "\n",
        "\n",
        "    def __add__(self, other):\n",
        "        return Vector(self.x + other.x, self.y + other.y)\n",
        "\n",
        "\n",
        "    def __str__(self):\n",
        "        return f\"Vector({self.x}, {self.y})\"\n",
        "\n",
        "#Example\n",
        "\n",
        "v1 = Vector(2, 3)\n",
        "v2 = Vector(4, 5)\n",
        "\n",
        "v3 = v1 + v2\n",
        "\n",
        "print(v1)\n",
        "print(v2)\n",
        "print(v3)\n"
      ],
      "metadata": {
        "colab": {
          "base_uri": "https://localhost:8080/"
        },
        "id": "4vfKhY5ZWM16",
        "outputId": "a4a61a8e-c509-4b10-a388-12fc122467ea"
      },
      "execution_count": 14,
      "outputs": [
        {
          "output_type": "stream",
          "name": "stdout",
          "text": [
            "Vector(2, 3)\n",
            "Vector(4, 5)\n",
            "Vector(6, 8)\n"
          ]
        }
      ]
    },
    {
      "cell_type": "markdown",
      "source": [
        "###Q.11.Create a class Person with attributes name and age. Add a method greet() that prints \"Hello, my name is {name} and I am {age} years old.\""
      ],
      "metadata": {
        "id": "0Whh3C2XcqEM"
      }
    },
    {
      "cell_type": "code",
      "source": [
        "class Person:\n",
        "    def __init__(self, name, age):\n",
        "        self.name = name\n",
        "        self.age = age\n",
        "\n",
        "    def greet(self):\n",
        "        print(f\"Hello, my name is {self.name} and I am {self.age} years old.\")\n",
        "\n",
        "# Example usage\n",
        "p1 = Person(\"Alice\", 30)\n",
        "p2 = Person(\"Bob\", 25)\n",
        "\n",
        "p1.greet()\n",
        "p2.greet()\n"
      ],
      "metadata": {
        "colab": {
          "base_uri": "https://localhost:8080/"
        },
        "id": "xUNSJnP7WyPk",
        "outputId": "3301371a-24f1-4aa6-9879-3a8e98bf4dbb"
      },
      "execution_count": 11,
      "outputs": [
        {
          "output_type": "stream",
          "name": "stdout",
          "text": [
            "Hello, my name is Alice and I am 30 years old.\n",
            "Hello, my name is Bob and I am 25 years old.\n"
          ]
        }
      ]
    },
    {
      "cell_type": "markdown",
      "source": [
        "###Q.12. Implement a class Student with attributes name and grades. Create a method average_grade() to compute the average of the grades."
      ],
      "metadata": {
        "id": "nNv8RRZDdBJg"
      }
    },
    {
      "cell_type": "code",
      "source": [
        "class Student:\n",
        "    def __init__(self, name, grades):\n",
        "        self.name = name\n",
        "        self.grades = grades  # Expecting a list of numbers\n",
        "\n",
        "    def average_grade(self):\n",
        "        if self.grades:\n",
        "            return sum(self.grades) / len(self.grades)\n",
        "        else:\n",
        "            return 0.0\n",
        "\n",
        "# Example\n",
        "student1 = Student(\"Alice\", [85, 90, 78])\n",
        "student2 = Student(\"Bob\", [92, 88])\n",
        "\n",
        "print(f\"{student1.name}'s average grade: {student1.average_grade():.2f}\")\n",
        "print(f\"{student2.name}'s average grade: {student2.average_grade():.2f}\")\n"
      ],
      "metadata": {
        "colab": {
          "base_uri": "https://localhost:8080/"
        },
        "id": "CQGlNngOc6W4",
        "outputId": "aa220f2d-3ba7-4e6a-ad28-9ad7a3786eea"
      },
      "execution_count": 15,
      "outputs": [
        {
          "output_type": "stream",
          "name": "stdout",
          "text": [
            "Alice's average grade: 84.33\n",
            "Bob's average grade: 90.00\n"
          ]
        }
      ]
    },
    {
      "cell_type": "markdown",
      "source": [
        "###Q.13.Create a class Rectangle with methods set_dimensions() to set the dimensions and area() to calculate the area."
      ],
      "metadata": {
        "id": "bQI-bbRudUmF"
      }
    },
    {
      "cell_type": "code",
      "source": [
        "class Rectangle:\n",
        "    def __init__(self):\n",
        "        self.length = 0\n",
        "        self.width = 0\n",
        "\n",
        "    def set_dimensions(self, length, width):\n",
        "        self.length = length\n",
        "        self.width = width\n",
        "\n",
        "    def area(self):\n",
        "        return self.length * self.width\n",
        "\n",
        "# Example\n",
        "rect = Rectangle()\n",
        "rect.set_dimensions(5, 3)\n",
        "print(f\"Area of rectangle: {rect.area()}\")\n"
      ],
      "metadata": {
        "colab": {
          "base_uri": "https://localhost:8080/"
        },
        "id": "1TZ-JDdwdOzb",
        "outputId": "8101b1bb-7b7a-4f4a-8eb4-971e6a14671b"
      },
      "execution_count": 17,
      "outputs": [
        {
          "output_type": "stream",
          "name": "stdout",
          "text": [
            "Area of rectangle: 15\n"
          ]
        }
      ]
    },
    {
      "cell_type": "markdown",
      "source": [
        "###Q.14.Create a class Employee with a method calculate_salary() that computes the salary based on hours worked and hourly rate. Create a derived class Manager that adds a bonus to the salary."
      ],
      "metadata": {
        "id": "NrwOiuU2eHGg"
      }
    },
    {
      "cell_type": "code",
      "source": [
        "# Base class\n",
        "class Employee:\n",
        "    def __init__(self, name, hours_worked, hourly_rate):\n",
        "        self.name = name\n",
        "        self.hours_worked = hours_worked\n",
        "        self.hourly_rate = hourly_rate\n",
        "\n",
        "    def calculate_salary(self):\n",
        "        return self.hours_worked * self.hourly_rate\n",
        "\n",
        "# Derived class\n",
        "class Manager(Employee):\n",
        "    def __init__(self, name, hours_worked, hourly_rate, bonus):\n",
        "        super().__init__(name, hours_worked, hourly_rate)\n",
        "        self.bonus = bonus\n",
        "\n",
        "    def calculate_salary(self):\n",
        "        base_salary = super().calculate_salary()\n",
        "        return base_salary + self.bonus\n",
        "\n",
        "# Example\n",
        "emp = Employee(\"Alice\", 40, 20)\n",
        "mgr = Manager(\"Bob\", 40, 30, 500)\n",
        "\n",
        "print(f\"{emp.name}'s salary: ${emp.calculate_salary()}\")\n",
        "print(f\"{mgr.name}'s salary: ${mgr.calculate_salary()}\")\n"
      ],
      "metadata": {
        "colab": {
          "base_uri": "https://localhost:8080/"
        },
        "id": "BL6f5nuCdes-",
        "outputId": "8c87f558-0486-4037-f4a6-0bf597b8ef0c"
      },
      "execution_count": 20,
      "outputs": [
        {
          "output_type": "stream",
          "name": "stdout",
          "text": [
            "Alice's salary: $800\n",
            "Bob's salary: $1700\n"
          ]
        }
      ]
    },
    {
      "cell_type": "markdown",
      "source": [
        "###Q.15.Create a class Product with attributes name, price, and quantity. Implement a method total_price() that calculates the total price of the product."
      ],
      "metadata": {
        "id": "bqvLwqhnega8"
      }
    },
    {
      "cell_type": "code",
      "source": [
        "class Product:\n",
        "    def __init__(self, name, price, quantity):\n",
        "        self.name = name\n",
        "        self.price = price\n",
        "        self.quantity = quantity\n",
        "\n",
        "    def total_price(self):\n",
        "        return self.price * self.quantity\n",
        "\n",
        "# Example\n",
        "product1 = Product(\"Laptop\", 1000, 2)\n",
        "product2 = Product(\"Mouse\", 25, 4)\n",
        "\n",
        "print(f\"{product1.name} total price: ${product1.total_price()}\")\n",
        "print(f\"{product2.name} total price: ${product2.total_price()}\")\n"
      ],
      "metadata": {
        "colab": {
          "base_uri": "https://localhost:8080/"
        },
        "id": "bijlGqxOecL4",
        "outputId": "28b77abc-6688-4bf5-ca1e-c6d1b46f69a7"
      },
      "execution_count": 19,
      "outputs": [
        {
          "output_type": "stream",
          "name": "stdout",
          "text": [
            "Laptop total price: $2000\n",
            "Mouse total price: $100\n"
          ]
        }
      ]
    },
    {
      "cell_type": "markdown",
      "source": [
        "###Q.16.Create a class Animal with an abstract method sound(). Create two derived classes Cow and Sheep that implement the sound() method."
      ],
      "metadata": {
        "id": "ujiB_u6Le61c"
      }
    },
    {
      "cell_type": "code",
      "source": [
        "from abc import ABC, abstractmethod\n",
        "\n",
        "# Abstract base class\n",
        "class Animal(ABC):\n",
        "    @abstractmethod\n",
        "    def sound(self):\n",
        "        pass\n",
        "\n",
        "# Derived class: Cow\n",
        "class Cow(Animal):\n",
        "    def sound(self):\n",
        "        return \"Moo\"\n",
        "\n",
        "# Derived class: Sheep\n",
        "class Sheep(Animal):\n",
        "    def sound(self):\n",
        "        return \"Baa\"\n",
        "\n",
        "#Example usage\n",
        "cow = Cow()\n",
        "sheep = Sheep()\n",
        "\n",
        "print(f\"Cow says: {cow.sound()}\")\n",
        "print(f\"Sheep says: {sheep.sound()}\")\n"
      ],
      "metadata": {
        "colab": {
          "base_uri": "https://localhost:8080/"
        },
        "id": "0ylsDr9UexYl",
        "outputId": "92ae148e-ba6b-46e6-a5fa-f1e90a5174c1"
      },
      "execution_count": 21,
      "outputs": [
        {
          "output_type": "stream",
          "name": "stdout",
          "text": [
            "Cow says: Moo\n",
            "Sheep says: Baa\n"
          ]
        }
      ]
    },
    {
      "cell_type": "markdown",
      "source": [
        "###Q.17.Create a class Book with attributes title, author, and year_published. Add a method get_book_info() that returns a formatted string with the book's details."
      ],
      "metadata": {
        "id": "2KG8Yph-fMqT"
      }
    },
    {
      "cell_type": "code",
      "source": [
        "class Book:\n",
        "    def __init__(self, title, author, year_published):\n",
        "        self.title = title\n",
        "        self.author = author\n",
        "        self.year_published = year_published\n",
        "\n",
        "    def get_book_info(self):\n",
        "        return f\"'{self.title}' by {self.author} (Published in {self.year_published})\"\n",
        "\n",
        "# Example\n",
        "book1 = Book(\"To Kill a Mockingbird\", \"Harper Lee\", 1960)\n",
        "book2 = Book(\"1984\", \"George Orwell\", 1949)\n",
        "\n",
        "print(book1.get_book_info())\n",
        "print(book2.get_book_info())\n"
      ],
      "metadata": {
        "colab": {
          "base_uri": "https://localhost:8080/"
        },
        "id": "1jTX_HwFfL2C",
        "outputId": "18993b6b-2f6b-41dc-bab6-35ac442c3a92"
      },
      "execution_count": 22,
      "outputs": [
        {
          "output_type": "stream",
          "name": "stdout",
          "text": [
            "'To Kill a Mockingbird' by Harper Lee (Published in 1960)\n",
            "'1984' by George Orwell (Published in 1949)\n"
          ]
        }
      ]
    },
    {
      "cell_type": "markdown",
      "source": [
        "###Q.18. Create a class House with attributes address and price. Create a derived class Mansion that adds an attribute number_of_rooms."
      ],
      "metadata": {
        "id": "t9FtAMksffoQ"
      }
    },
    {
      "cell_type": "code",
      "source": [
        "# Base class\n",
        "class House:\n",
        "    def __init__(self, address, price):\n",
        "        self.address = address\n",
        "        self.price = price\n",
        "\n",
        "# Derived class\n",
        "class Mansion(House):\n",
        "    def __init__(self, address, price, number_of_rooms):\n",
        "        super().__init__(address, price)\n",
        "        self.number_of_rooms = number_of_rooms\n",
        "\n",
        "    def get_details(self):\n",
        "        return (f\"Address: {self.address}, Price: ${self.price}, \"\n",
        "                f\"Rooms: {self.number_of_rooms}\")\n",
        "\n",
        "# Example\n",
        "mansion1 = Mansion(\"123 Luxury Lane\", 2000000, 12)\n",
        "print(mansion1.get_details())\n"
      ],
      "metadata": {
        "colab": {
          "base_uri": "https://localhost:8080/"
        },
        "id": "Ivh3nGGIfdOV",
        "outputId": "df70a50d-b1c6-4a91-8820-3eb5c15929c9"
      },
      "execution_count": 23,
      "outputs": [
        {
          "output_type": "stream",
          "name": "stdout",
          "text": [
            "Address: 123 Luxury Lane, Price: $2000000, Rooms: 12\n"
          ]
        }
      ]
    },
    {
      "cell_type": "code",
      "source": [],
      "metadata": {
        "id": "zSneqHpWfseV"
      },
      "execution_count": null,
      "outputs": []
    }
  ]
}